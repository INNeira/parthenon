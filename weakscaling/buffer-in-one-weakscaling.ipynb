{
 "cells": [
  {
   "cell_type": "code",
   "execution_count": 1,
   "metadata": {},
   "outputs": [],
   "source": [
    "import pandas as pd\n",
    "import numpy as np\n",
    "import matplotlib.pyplot as plt"
   ]
  },
  {
   "cell_type": "markdown",
   "metadata": {},
   "source": [
    "Read in the <job-id>.out file from the runs, which contains the output of all runs lumped into one file. Read into pandas-DataFrames for easy processing later. Read each run individually (selecting lines to read in with 'skiprows' and 'nrows' arguments), and only the columns that contain numbers (with 'usecols' argument, 'names' to give each column a name).\n",
    "    \n",
    "Note: The `*.out` files had a bunch of blank lines in them that I removed (vim: `:g/^$/d` which removed all but one) before reading the files in here."
   ]
  },
  {
   "cell_type": "code",
   "execution_count": 2,
   "metadata": {},
   "outputs": [],
   "source": [
    "# Set some file name, parameters\n",
    "run1_16_file = \"buffer-in-one-weakscaling_2.out\"\n",
    "run_32_file = \"buffer-in-one-weakscaling32_2.out\"\n",
    "cyc_idx = 3"
   ]
  },
  {
   "cell_type": "code",
   "execution_count": 3,
   "metadata": {},
   "outputs": [],
   "source": [
    "run1_df = pd.read_csv(run1_16_file, sep=' |=', skiprows=9, header=None, nrows=10, \\\n",
    "                      usecols=[1,3,5,9], names=['cycle','time','dt','zone-cycles/wsec'], engine='python')\n",
    "run2_df = pd.read_csv(run1_16_file, sep=' |=', skiprows=29, header=None, nrows=10, \\\n",
    "                      usecols=[1,3,5,9], names=['cycle','time','dt','zone-cycles/wsec'], engine='python')\n",
    "run4_df = pd.read_csv(run1_16_file, sep=' |=', skiprows=49, header=None, nrows=10, \\\n",
    "                      usecols=[1,3,5,9], names=['cycle','time','dt','zone-cycles/wsec'], engine='python')\n",
    "run8_df = pd.read_csv(run1_16_file, sep=' |=', skiprows=69, header=None, nrows=10, \\\n",
    "                      usecols=[1,3,5,9], names=['cycle','time','dt','zone-cycles/wsec'], engine='python')\n",
    "run16_df = pd.read_csv(run1_16_file, sep=' |=', skiprows=89, header=None, nrows=10, \\\n",
    "                       usecols=[1,3,5,9], names=['cycle','time','dt','zone-cycles/wsec'], engine='python')\n",
    "run32_df = pd.read_csv(run_32_file, sep=' |=', skiprows=9, header=None, nrows=10, \\\n",
    "                       usecols=[1,3,5,9], names=['cycle','time','dt','zone-cycles/wsec'], engine='python')"
   ]
  },
  {
   "cell_type": "code",
   "execution_count": 4,
   "metadata": {},
   "outputs": [
    {
     "data": {
      "text/plain": [
       "cycle                 int64\n",
       "time                float64\n",
       "dt                  float64\n",
       "zone-cycles/wsec    float64\n",
       "dtype: object"
      ]
     },
     "execution_count": 4,
     "metadata": {},
     "output_type": "execute_result"
    }
   ],
   "source": [
    "run1_df.dtypes"
   ]
  },
  {
   "cell_type": "markdown",
   "metadata": {},
   "source": [
    "Collect all the data into a dataframe for easy plotting\n",
    "- nGPUs\n",
    "- zone-cycles/wallsecond (aggregate for the run)\n",
    "- zone-cycles/wsec (per-cycle values averages over cycles 3-10)\n",
    "- number of meshblocks"
   ]
  },
  {
   "cell_type": "code",
   "execution_count": 5,
   "metadata": {},
   "outputs": [],
   "source": [
    "df = pd.DataFrame([1,2,4,8,16,32], columns=['nGPUs'])"
   ]
  },
  {
   "cell_type": "code",
   "execution_count": 6,
   "metadata": {},
   "outputs": [],
   "source": [
    "zonecycleswallsecond = []\n",
    "with open(\"buffer-in-one-weakscaling_2.out\", \"r\") as f:\n",
    "    lines = f.readlines()\n",
    "    for l in lines:\n",
    "        if \"zone-cycles/wallsecond\" in l:\n",
    "            tokens = l.split('=')\n",
    "            zonecycleswallsecond.append(float(tokens[1].strip()))\n",
    "with open(\"buffer-in-one-weakscaling32_2.out\", \"r\") as f:\n",
    "    lines = f.readlines()\n",
    "    for l in lines:\n",
    "        if \"zone-cycles/wallsecond\" in l:\n",
    "            tokens = l.split('=')\n",
    "            zonecycleswallsecond.append(float(tokens[1].strip()))"
   ]
  },
  {
   "cell_type": "code",
   "execution_count": 7,
   "metadata": {},
   "outputs": [],
   "source": [
    "df['zone-cycles/wallsecond'] = pd.Series(zonecycleswallsecond)"
   ]
  },
  {
   "cell_type": "code",
   "execution_count": 8,
   "metadata": {},
   "outputs": [],
   "source": [
    "nmeshblocks = []\n",
    "with open(\"buffer-in-one-weakscaling_2.out\", \"r\") as f:\n",
    "    lines = f.readlines()\n",
    "    for l in lines:\n",
    "        if \"Number of MeshBlocks\" in l:\n",
    "            tokens = l.split(';')\n",
    "            tokens1 = tokens[0].split('=')\n",
    "            nmeshblocks.append(int(tokens1[1].strip()))\n",
    "with open(\"buffer-in-one-weakscaling32_2.out\", \"r\") as f:\n",
    "    lines = f.readlines()\n",
    "    for l in lines:\n",
    "        if \"Number of MeshBlocks\" in l:\n",
    "            tokens = l.split(';')\n",
    "            tokens1 = tokens[0].split('=')\n",
    "            nmeshblocks.append(int(tokens1[1].strip()))"
   ]
  },
  {
   "cell_type": "code",
   "execution_count": 9,
   "metadata": {},
   "outputs": [],
   "source": [
    "df['meshblocks'] = pd.Series(nmeshblocks)"
   ]
  },
  {
   "cell_type": "code",
   "execution_count": null,
   "metadata": {},
   "outputs": [],
   "source": [
    "zonecycleswsecavg = [\\\n",
    "    run1_df['zone-cycles/wsec'].iloc[cyc_idx:].mean(),\\\n",
    "    run2_df['zone-cycles/wsec'].iloc[cyc_idx:].mean(),\\\n",
    "    run4_df['zone-cycles/wsec'].iloc[cyc_idx:].mean(),\\\n",
    "    run8_df['zone-cycles/wsec'].iloc[cyc_idx:].mean(),\\\n",
    "    run16_df['zone-cycles/wsec'].iloc[cyc_idx:].mean(),\\\n",
    "    run32_df['zone-cycles/wsec'].iloc[cyc_idx:].mean()\\\n",
    "                    ]"
   ]
  },
  {
   "cell_type": "code",
   "execution_count": 11,
   "metadata": {},
   "outputs": [],
   "source": [
    "df['avg_zone-cycles/wsec'] = pd.Series(zonecycleswsecavg)"
   ]
  },
  {
   "cell_type": "code",
   "execution_count": 12,
   "metadata": {},
   "outputs": [],
   "source": [
    "df['zone-cyc/sec/meshblk'] = df['zone-cycles/wallsecond'] / df['meshblocks']\n",
    "df['avg_zone-cyc/sec/meshblk'] = df['avg_zone-cycles/wsec'] / df['meshblocks']"
   ]
  },
  {
   "cell_type": "markdown",
   "metadata": {},
   "source": [
    "Let's see what we have"
   ]
  },
  {
   "cell_type": "code",
   "execution_count": 13,
   "metadata": {},
   "outputs": [
    {
     "data": {
      "text/html": [
       "<div>\n",
       "<style scoped>\n",
       "    .dataframe tbody tr th:only-of-type {\n",
       "        vertical-align: middle;\n",
       "    }\n",
       "\n",
       "    .dataframe tbody tr th {\n",
       "        vertical-align: top;\n",
       "    }\n",
       "\n",
       "    .dataframe thead th {\n",
       "        text-align: right;\n",
       "    }\n",
       "</style>\n",
       "<table border=\"1\" class=\"dataframe\">\n",
       "  <thead>\n",
       "    <tr style=\"text-align: right;\">\n",
       "      <th></th>\n",
       "      <th>nGPUs</th>\n",
       "      <th>zone-cycles/wallsecond</th>\n",
       "      <th>meshblocks</th>\n",
       "      <th>avg_zone-cycles/wsec</th>\n",
       "      <th>zone-cyc/sec/meshblk</th>\n",
       "      <th>avg_zone-cyc/sec/meshblk</th>\n",
       "    </tr>\n",
       "  </thead>\n",
       "  <tbody>\n",
       "    <tr>\n",
       "      <td>0</td>\n",
       "      <td>1</td>\n",
       "      <td>22300000.0</td>\n",
       "      <td>904</td>\n",
       "      <td>2.230000e+07</td>\n",
       "      <td>24668.141593</td>\n",
       "      <td>24668.141593</td>\n",
       "    </tr>\n",
       "    <tr>\n",
       "      <td>1</td>\n",
       "      <td>2</td>\n",
       "      <td>42700000.0</td>\n",
       "      <td>1640</td>\n",
       "      <td>4.268571e+07</td>\n",
       "      <td>26036.585366</td>\n",
       "      <td>26027.874564</td>\n",
       "    </tr>\n",
       "    <tr>\n",
       "      <td>2</td>\n",
       "      <td>4</td>\n",
       "      <td>82300000.0</td>\n",
       "      <td>2944</td>\n",
       "      <td>8.230000e+07</td>\n",
       "      <td>27955.163043</td>\n",
       "      <td>27955.163043</td>\n",
       "    </tr>\n",
       "    <tr>\n",
       "      <td>3</td>\n",
       "      <td>8</td>\n",
       "      <td>23800000.0</td>\n",
       "      <td>5244</td>\n",
       "      <td>1.293486e+08</td>\n",
       "      <td>4538.520214</td>\n",
       "      <td>24666.012858</td>\n",
       "    </tr>\n",
       "    <tr>\n",
       "      <td>4</td>\n",
       "      <td>16</td>\n",
       "      <td>8540000.0</td>\n",
       "      <td>9865</td>\n",
       "      <td>1.152571e+08</td>\n",
       "      <td>865.686771</td>\n",
       "      <td>11683.440736</td>\n",
       "    </tr>\n",
       "    <tr>\n",
       "      <td>5</td>\n",
       "      <td>32</td>\n",
       "      <td>9260000.0</td>\n",
       "      <td>18071</td>\n",
       "      <td>1.570343e+08</td>\n",
       "      <td>512.423220</td>\n",
       "      <td>8689.850352</td>\n",
       "    </tr>\n",
       "  </tbody>\n",
       "</table>\n",
       "</div>"
      ],
      "text/plain": [
       "   nGPUs  zone-cycles/wallsecond  meshblocks  avg_zone-cycles/wsec  \\\n",
       "0      1              22300000.0         904          2.230000e+07   \n",
       "1      2              42700000.0        1640          4.268571e+07   \n",
       "2      4              82300000.0        2944          8.230000e+07   \n",
       "3      8              23800000.0        5244          1.293486e+08   \n",
       "4     16               8540000.0        9865          1.152571e+08   \n",
       "5     32               9260000.0       18071          1.570343e+08   \n",
       "\n",
       "   zone-cyc/sec/meshblk  avg_zone-cyc/sec/meshblk  \n",
       "0          24668.141593              24668.141593  \n",
       "1          26036.585366              26027.874564  \n",
       "2          27955.163043              27955.163043  \n",
       "3           4538.520214              24666.012858  \n",
       "4            865.686771              11683.440736  \n",
       "5            512.423220               8689.850352  "
      ]
     },
     "execution_count": 13,
     "metadata": {},
     "output_type": "execute_result"
    }
   ],
   "source": [
    "df"
   ]
  },
  {
   "cell_type": "code",
   "execution_count": 15,
   "metadata": {},
   "outputs": [
    {
     "data": {
      "text/plain": [
       "Text(0, 0.5, 'zone-cycles / second / meshblock')"
      ]
     },
     "execution_count": 15,
     "metadata": {},
     "output_type": "execute_result"
    },
    {
     "data": {
      "image/png": "[encoded data removed]",
      "text/plain": [
       "<Figure size 432x288 with 1 Axes>"
      ]
     },
     "metadata": {
      "needs_background": "light"
     },
     "output_type": "display_data"
    },
    {
     "data": {
      "image/png": "[encoded data removed]",
      "text/plain": [
       "<Figure size 432x288 with 1 Axes>"
      ]
     },
     "metadata": {
      "needs_background": "light"
     },
     "output_type": "display_data"
    }
   ],
   "source": [
    "ax = df.plot(kind='line', x='nGPUs', y=['zone-cycles/wallsecond', 'avg_zone-cycles/wsec'], marker='o', \\\n",
    "             logx=True, title='rzAnsel weak scaling')\n",
    "ax.set_ylabel('zone-cycles / second')\n",
    "ax1 = df.plot(kind='line', x='nGPUs', y=['zone-cyc/sec/meshblk', 'avg_zone-cyc/sec/meshblk'], marker='o', \\\n",
    "             logx=True, title='rzAnsel weak scaling per meshblock')\n",
    "ax1.set_ylabel('zone-cycles / second / meshblock')\n",
    "#plt.show()"
   ]
  }
 ],
 "metadata": {
  "kernelspec": {
   "display_name": "Python 3",
   "language": "python",
   "name": "python3"
  },
  "language_info": {
   "codemirror_mode": {
    "name": "ipython",
    "version": 3
   },
   "file_extension": ".py",
   "mimetype": "text/x-python",
   "name": "python",
   "nbconvert_exporter": "python",
   "pygments_lexer": "ipython3",
   "version": "3.7.4"
  }
 },
 "nbformat": 4,
 "nbformat_minor": 2
}
